{
 "cells": [
  {
   "cell_type": "markdown",
   "metadata": {},
   "source": [
    "### Eigenvalues and Eigenvectors\n",
    "\n",
    "\n",
    "#### Eigenvector\n",
    "An eigenvector or characteristic vector is a vector that has its direction unchanged (or reversed) by a given linear transformation. More precisely, an eigenvector $v$ of a linear transformation $T$ is scaled by a constant factor $\\lambda$, when the linear transformation is applied to it: $T(v) = \\lambda v$ . \n",
    "\n",
    "#### Eigenvalue\n",
    "In the above case `λ` is the eigenvalue for this eigenvector $v$."
   ]
  },
  {
   "cell_type": "code",
   "execution_count": 1,
   "metadata": {},
   "outputs": [],
   "source": [
    "import numpy as np\n",
    "import matplotlib.pyplot as plt"
   ]
  },
  {
   "cell_type": "code",
   "execution_count": 2,
   "metadata": {},
   "outputs": [],
   "source": [
    "def visualize_transformed_vector(A: list[list[int]], vec: list[int]):\n",
    "    \"\"\"\n",
    "    Shows the vector (starting at (0; 0)) before and after the transformation\n",
    "    given by the specified matrix.\n",
    "    \"\"\"\n",
    "    vec_t = [A[0][0]*vec[0] + A[0][1]*vec[1], A[1][0]*vec[0] + A[1][1]*vec[1]]\n",
    "    zeroes = [0, 0] \n",
    "    plt.quiver(zeroes, zeroes, [vec[0], vec_t[0]], [vec[1], vec_t[1]], angles=\"xy\", scale_units=\"xy\", scale=1, color = [\"r\", \"b\"])\n",
    "\n",
    "    # Determine the range of the grid to be plotted.\n",
    "    min_v = min(vec[0], vec[1], vec_t[0], vec_t[1])\n",
    "    max_v = max(vec[0], vec[1], vec_t[0], vec_t[1])\n",
    "    max_v = max(abs(min_v), abs(max_v))\n",
    "    plt.xlim(-max_v, max_v)\n",
    "    plt.ylim(-max_v, max_v)\n",
    "\n",
    "    plt.grid()\n",
    "    plt.gca().set_aspect(\"equal\")\n",
    "    plt.show()"
   ]
  },
  {
   "cell_type": "markdown",
   "metadata": {},
   "source": [
    "Now have a look at the matrix given below:\n",
    "$$ T = \\begin{bmatrix}\n",
    "2 & -4 \\\\\n",
    "-1 & -1\n",
    "\\end{bmatrix} $$\n",
    "\n",
    "See how the transformation acts on a arbitrary vector:"
   ]
  },
  {
   "cell_type": "code",
   "execution_count": 3,
   "metadata": {},
   "outputs": [
    {
     "data": {
      "image/png": "[encoded data removed]",
      "text/plain": [
       "<Figure size 640x480 with 1 Axes>"
      ]
     },
     "metadata": {},
     "output_type": "display_data"
    }
   ],
   "source": [
    "matrix = np.array([[2, -4], [-1, -1]])\n",
    "visualize_transformed_vector(matrix, [2, 3])"
   ]
  },
  {
   "cell_type": "markdown",
   "metadata": {},
   "source": [
    "Well, it... transforms it somehow. Let's try another vector:"
   ]
  },
  {
   "cell_type": "code",
   "execution_count": 4,
   "metadata": {},
   "outputs": [
    {
     "data": {
      "image/png": "[encoded data removed]",
      "text/plain": [
       "<Figure size 640x480 with 1 Axes>"
      ]
     },
     "metadata": {},
     "output_type": "display_data"
    }
   ],
   "source": [
    "visualize_transformed_vector(matrix, [-4, 1])"
   ]
  },
  {
   "cell_type": "markdown",
   "metadata": {},
   "source": [
    "Hm... the vector should be **scaled only**. That is, the entire matrix multiplication acts like a scalar multiplication for this special vector. Because it's so special, it's given a name - it's an **eigenvector** of that matrix. The factor which scales it is called an **eigenvalue** corresponding to that eigenvector.\n",
    "\n",
    "More formally, a vector $v$ is an eigenvector of the matrix $A$, corresponding to the eigenvalue $\\lambda$ if\n",
    "$$ Av = \\lambda v $$\n",
    "\n",
    "You can find more details about the computation [here](https://sites.calvin.edu/scofield/courses/m256/materials/eigenstuff.pdf).\n",
    "\n",
    "Why are these useful? For example, all of quantum physics is based on eigenvalues and eigenvectors. Also, it's very useful in **dimensionality reduction** problems. If you wish, you can explore that (for example, the **principal component analysis** algorithm)."
   ]
  },
  {
   "cell_type": "markdown",
   "metadata": {},
   "source": [
    "### Exercise\n",
    "**Find the eigenvalues** of the matrix $A = \\begin{bmatrix}2 & 2 \\\\5 & -1 \\end{bmatrix}$\n",
    "\n",
    "The eigenvalues are those $\\lambda$ for which $det(A − \\lambda I)= 0$. Now:\n",
    "\n",
    "$$ det(A − \\lambda I) = det(\\begin{bmatrix}2 & 2 \\\\5 & -1 \\end{bmatrix} - \\lambda \\begin{bmatrix}1 & 0 \\\\0 & 1 \\end{bmatrix}) $$\n",
    "$$ = det(\\begin{bmatrix}2 & 2 \\\\5 & -1 \\end{bmatrix} - \\begin{bmatrix}\\lambda & 0 \\\\0 & \\lambda \\end{bmatrix}) $$\n",
    "$$ = \\begin{vmatrix}2- \\lambda & 2 \\\\5 & -1- \\lambda \\end{vmatrix}$$\n",
    "$$ = (2 - \\lambda ) (-1 - \\lambda ) - 10 $$\n",
    "$$ = \\lambda ^ 2 - \\lambda - 12$$\n",
    "\n",
    "The eigenvalues of $A$ are the solutions of the quadratic equation $ \\lambda ^ 2 − \\lambda − 12 = 0 $, namely $\\lambda _1 = −3$ and $ \\lambda _2 = 4$.\n",
    "\n",
    "---\n",
    "\n",
    "Now **find one of the corresponding eigenvectors** for $ \\lambda  = -3$. The equation $Ax = \\lambda x$ becomes $Ax = −3x$:\n",
    "\n",
    "$$  x = \\begin{bmatrix} x_1 \\\\x_2 \\lambda \\end{bmatrix} $$\n",
    "\n",
    "$$ \\begin{bmatrix}2x_1 + 2x_2 \\\\5x_1 - x_2 \\lambda \\end{bmatrix} = \\begin{bmatrix} -3x_1 \\\\-3x_2 \\lambda \\end{bmatrix}$$\n",
    "\n",
    "$$ \\begin{cases}\n",
    "    2x_1 + 2x_2 = 3x_1 \\\\\n",
    "    5x_1 - x_2 = -3x_2\n",
    "\\end{cases}$$\n",
    "\n",
    "$$ x_1 = \\frac{-2}{5}x_2 $$\n",
    "\n",
    "This means that, while there are infinitely many nonzero solutions (solution vectors) of the equation $Ax = −3x$, they all satisfy the condition that the first entry $x_1$ is $−2/5$ times the second entry $x_2$. Thus all solutions of this equation can be characterized by\n",
    "\n",
    "$$\n",
    "\\begin{bmatrix} 2t \\\\-5t \\end{bmatrix} = t \\begin{bmatrix} 2 \\\\-5 \\end{bmatrix} \n",
    "$$\n",
    "\n",
    "where $t$ is any real number. The nonzero vectors $x$ that satisfy $Ax = −3x$ are called `eigenvectors` associated with the eigenvalue $ \\lambda = -3$ . One such `eigenvector` is:\n",
    "$$ u_1 = \\begin{bmatrix} 2 \\\\-5 \\end{bmatrix}  $$\n",
    "\n",
    "Similarly, we can find eigenvectors associated with the eigenvalue $λ = 4$ by solving $Ax = 4x$ :\n",
    "\n",
    "$$ u_2 = \\begin{bmatrix} 1 \\\\1 \\end{bmatrix}  $$\n",
    "\n",
    "---\n",
    "Now, let's see how to compute eigenvalues and eigenvectors using `numpy`."
   ]
  },
  {
   "cell_type": "code",
   "execution_count": 5,
   "metadata": {},
   "outputs": [
    {
     "name": "stdout",
     "output_type": "stream",
     "text": [
      "eigenvalues: [ 4. -3.]\n",
      "eig_v1: [0.70710678 0.70710678]\n",
      "eig_v2: [-0.37139068  0.92847669]\n"
     ]
    }
   ],
   "source": [
    "A = np.array([[2, 2], [5, -1]])\n",
    "eigenvalues, eigenvectors = np.linalg.eig(A)\n",
    "eig_v1 = eigenvectors[:, 0]\n",
    "eig_v2 = eigenvectors[:, 1]\n",
    "print(\"eigenvalues:\", eigenvalues)\n",
    "print(\"eig_v1:\", eig_v1)\n",
    "print(\"eig_v2:\", eig_v2)"
   ]
  },
  {
   "cell_type": "markdown",
   "metadata": {},
   "source": [
    "### Eigenbasis\n",
    "An **eigenbasis** is a basis in which every vector is an **eigenvector**. In the example above it is:\n",
    "\n",
    "$$ \\begin{Bmatrix} \\begin{pmatrix} 2 \\\\-5 \\end{pmatrix}, \\begin{pmatrix} 1 \\\\1 \\end{pmatrix} \\end{Bmatrix}  $$\n",
    "\n",
    "A matrix is *diagonalisable* (essentially) if an eigenbasis exists. If not, you need to resort to the more general [Jordan normal form](https://en.wikipedia.org/wiki/Jordan_normal_form) and [generalised](https://en.wikipedia.org/wiki/Generalized_eigenvector) eigenvectors/eigenbases.\n",
    "\n",
    "### Spectrum of a matrix\n",
    "In mathematics, the spectrum of a matrix is the set of its **eigenvalues**."
   ]
  },
  {
   "cell_type": "markdown",
   "metadata": {},
   "source": [
    "### Projection\n",
    "A projection is a linear transformation $P$ from a vector space to itself (an endomorphism) such that $P∘P=P$. That is, whenever $P$ is applied twice to any vector, it gives the same result as if it were applied once (i.e. $P$ is idempotent). It leaves its image unchanged.\n",
    "\n",
    "### Projection Matrix\n",
    "A projection matrix is a matrix used in linear algebra to map vectors onto a subspace, typically in the context of vector spaces or 3D computer graphics. It has the following main applications.\n",
    "\n",
    "A matrix $P$ is a projection matrix if:\n",
    "\n",
    "1. $P^2 = P$ (idempotent property).\n",
    "2. $P$ is square ($n × n$).\n",
    "\n",
    "This means applying the projection matrix twice is the same as applying it once. Essentially, the projection does not change after the first application.\n",
    "\n",
    "\n",
    "#### Examples of Projection Matrices\n",
    "Some common examples of projection matrices are:\n",
    "##### Projection onto a Subspace\n",
    "Given a vector $v ∈ R^n$ and a subspace $U ⊂ R^n$, the projection of $v$ onto $U$ can be computed using the projection matrix $P$. If $A$ is a matrix whose columns form an **orthonormal** basis for $U$, the projection matrix $P$ is $P = AA^T$.\n",
    "* For example, if $A = \\begin{bmatrix} 1 & 0 \\\\ 0 & 1\\end{bmatrix}$, then  $P = \\begin{bmatrix} 1 & 0 \\\\ 0 & 1\\end{bmatrix}$, which projects every vector onto itself (identity matrix).\n",
    "\n",
    "##### Projection in Principal Component Analysis (PCA)\n",
    "In PCA, high-dimensional data is projected onto a subspace spanned by the top k eigenvectors (principal components) of the covariance matrix:\n",
    "$P = U_kU_k^T$ \n",
    "\n",
    "Where:\n",
    "* $U_k$​ is a matrix containing the top $k$ eigenvectors as its columns.\n",
    "\n",
    "This projection reduces the dimensionality of the data while retaining maximum variance.\n",
    "\n",
    "### Vector Projection \n",
    "The projection vector is a vector that represents the shadow of one vector cast on another vector. Obtaining the vector projection of one vector over another involves multiplying the given vector by the cosecant of the angle separating the two vectors in the equation.\n",
    "\n",
    "### Reference\n",
    "* [Introduction to projections | Matrix transformations](https://www.youtube.com/watch?v=27vT-NWuw0M)\n",
    "* [Vector projection](https://unacademy.com/content/jee/study-material/mathematics/vector-projection/)\n",
    "* [Projection Matrix](https://unacademy.com/content/jee/study-material/mathematics/vector-projection/)"
   ]
  }
 ],
 "metadata": {
  "kernelspec": {
   "display_name": "Python 3",
   "language": "python",
   "name": "python3"
  },
  "language_info": {
   "codemirror_mode": {
    "name": "ipython",
    "version": 3
   },
   "file_extension": ".py",
   "mimetype": "text/x-python",
   "name": "python",
   "nbconvert_exporter": "python",
   "pygments_lexer": "ipython3",
   "version": "3.13.2"
  }
 },
 "nbformat": 4,
 "nbformat_minor": 2
}
