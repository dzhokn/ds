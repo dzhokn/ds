{
 "cells": [
  {
   "cell_type": "markdown",
   "metadata": {},
   "source": [
    "\n",
    "### Mean Vector\n",
    "The first step in analyzing multivariate data is computing the **mean vector** and the **variance-covariance matrix**.\n",
    "\n",
    "Consider the following matrix:\n",
    "\n",
    "$$ X = \\begin{bmatrix}\n",
    "4.0 & 2.0 & 0.60 \\\\\n",
    "4.2 & 2.1 & 0.59 \\\\\n",
    "3.9 & 2.0 & 0.58 \\\\\n",
    "4.3 & 2.1 & 0.62 \\\\\n",
    "4.1 & 2.2 & 0.63 \n",
    "\\end{bmatrix} $$\n",
    "\n",
    "The set of 5 observations, measuring 3 variables, can be described by its **mean vector** and **variance-covariance matrix**. The three variables, from left to right are length, width, and height of a certain object, for example. Each row vector $X_i$ is another observation of the three variables (or components).\n",
    "\n",
    "The **mean vector** consists of the means of each variable. Where the mean is simply the sum of the data points divided by the number of data points:\n",
    "\n",
    "$$ \\bar{Y} = \\sum_{i=1}^N \\frac{Y_i}{N} $$\n",
    "\n",
    "The mean is that value that is most commonly referred to as the **average**. Both terms are being used as a synonyms."
   ]
  },
  {
   "cell_type": "markdown",
   "metadata": {},
   "source": [
    "### Variance\n",
    "If you're analyzing data and notice a **high variance**, it means there's a large spread between the numbers, with many data points far away from the mean. This can signal diverse behavior among the subjects or elements you're studying.\n",
    "\n",
    "The variance is defined as\n",
    "\n",
    "$$ s^2 = \\sum_{i=1}^N \\frac{(Y_i - \\bar{Y})^2}{N - 1} $$\n",
    "\n",
    "where $\\bar{Y} $ is the mean of the data.\n",
    "\n",
    "The variance is roughly the **arithmetic average of the squared distance from the mean**. Squaring the distance from the mean has the effect of giving greater weight to values that are further from the mean. For example, a point 2 units from the mean adds 4 to the above sum while a point 10 units from the mean adds 100 to the sum.\n"
   ]
  },
  {
   "cell_type": "markdown",
   "metadata": {},
   "source": [
    "### Covariance Matrix\n",
    "\n",
    "The variance-covariance matrix consists of:\n",
    "1. the variances of the variables along the main diagonal\n",
    "2. and the covariances between each pair of variables in the other matrix positions\n",
    "\n",
    "The formula for computing the covariance of the variables $X$ and $Y$ is\n",
    "\n",
    "$$ COV = \\frac{ \\sum_{i=1}^N (X_i - \\bar{X})(Y_i - \\bar{Y}) }{N - 1} $$\n",
    "\n",
    "with $\\bar{X}$ and $\\bar{Y}$ denoting the means of features $X$ and $Y$, respectively.\n",
    "\n",
    "The results are:\n",
    "\n",
    "$$ \\bar{X} = \\begin{bmatrix} 4.10  & 2.08 & 0.604 \\end{bmatrix} $$\n",
    "\n",
    "\n",
    "$$ COV = \\begin{bmatrix}\n",
    "0.025 & 0.0075 & 0.00175 \\\\\n",
    "0.0075 & 0.0070 & 0.00135 \\\\\n",
    "0.00175 & 0.00135 & 0.00043\n",
    "\\end{bmatrix} $$\n",
    "\n",
    "Thus\n",
    "* $0.025$ is the variance of the *length* variable\n",
    "* $0.0075$ is the covariance between the *length* and the *width* variables\n",
    "* $0.00175$ is the covariance between the *length* and the *height* variables\n",
    "* $0.0070$ is the variance of the *width* variable\n",
    "* $0.00135$ is the covariance between the *width* and *height* variables\n",
    "* and $0.00043$ is the variance of the *height* variable.\n",
    "\n",
    "\n",
    "The mean vector is often referred to as the **centroid** and the variance-covariance matrix as the **dispersion** or dispersion matrix. Also, the terms variance-covariance matrix and covariance matrix are used interchangeably. \n"
   ]
  }
 ],
 "metadata": {
  "language_info": {
   "name": "python"
  }
 },
 "nbformat": 4,
 "nbformat_minor": 2
}
