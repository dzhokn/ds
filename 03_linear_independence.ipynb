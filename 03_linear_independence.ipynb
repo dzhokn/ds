{
 "cells": [
  {
   "cell_type": "markdown",
   "metadata": {},
   "source": [
    "### Linear Independence\n",
    "\n",
    "Given a set of vectors, you can determine if they are linearly independent by writing the vectors as the columns of the matrix $A$, and solving $Ax = 0$. If there are any non-zero solutions, then the vectors are linearly dependent. If the only solution is $x = 0$, then they are linearly independent.\n",
    "\n",
    "Let's implement it in Python."
   ]
  },
  {
   "cell_type": "code",
   "execution_count": 4,
   "metadata": {},
   "outputs": [],
   "source": [
    "import numpy as np"
   ]
  },
  {
   "cell_type": "code",
   "execution_count": 5,
   "metadata": {},
   "outputs": [],
   "source": [
    "def check_if_linearly_independent(v1: list, v2: list, v3: list) -> bool:\n",
    "    \"\"\"\n",
    "    Returns True in case the passed three 3Dvectors are linearly independent. Otherwise, return False.\n",
    "    \"\"\"\n",
    "    A = np.array([v1, v2, v3]).T\n",
    "    dim = len(v1)\n",
    "    ZERO_V = np.array([[0] for _ in range(dim)])\n",
    "\n",
    "    x = np.linalg.solve(A, ZERO_V)\n",
    "\n",
    "    return (sum(i[0] for i in x) == 0)  # If the result is the ZERO vector, then return True"
   ]
  },
  {
   "cell_type": "code",
   "execution_count": 6,
   "metadata": {},
   "outputs": [
    {
     "data": {
      "text/plain": [
       "np.True_"
      ]
     },
     "execution_count": 6,
     "metadata": {},
     "output_type": "execute_result"
    }
   ],
   "source": [
    "v1 = np.array([3, 0, -1])\n",
    "v2 = np.array([0, 3, -2])\n",
    "v3 = np.array([-1, -2, 1])\n",
    "\n",
    "check_if_linearly_independent(v1, v2, v3)"
   ]
  },
  {
   "cell_type": "markdown",
   "metadata": {},
   "source": [
    "### Summary\n",
    "* Two collinear vectors are always linearly dependent.\n",
    "* Any 3 vectors in 2D space are always linearly dependent, since the third vector would always be a product of the first two.\n",
    "* If we have a set of linearly dependent vectors and we remove the vector which is in the span of the other ones, then this won't affect the span of the vector set.\n",
    "\n",
    "### Reference\n",
    "* [How to Determine if a Set of Vectors is Linearly Independent](https://www.youtube.com/watch?v=L1ErFhSxIew)\n",
    "* [Linear Independence](https://textbooks.math.gatech.edu/ila/1553/linear-independence.html)"
   ]
  }
 ],
 "metadata": {
  "kernelspec": {
   "display_name": "Python 3",
   "language": "python",
   "name": "python3"
  },
  "language_info": {
   "codemirror_mode": {
    "name": "ipython",
    "version": 3
   },
   "file_extension": ".py",
   "mimetype": "text/x-python",
   "name": "python",
   "nbconvert_exporter": "python",
   "pygments_lexer": "ipython3",
   "version": "3.13.2"
  }
 },
 "nbformat": 4,
 "nbformat_minor": 2
}
