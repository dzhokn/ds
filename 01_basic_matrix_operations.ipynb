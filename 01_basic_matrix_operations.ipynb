{
 "cells": [
  {
   "cell_type": "code",
   "execution_count": 1,
   "metadata": {},
   "outputs": [],
   "source": [
    "import numpy as np\n",
    "import matplotlib.pyplot as plt"
   ]
  },
  {
   "cell_type": "markdown",
   "metadata": {},
   "source": [
    "# Matrix definition\n",
    "There are two ways to define matrices in Python. \n",
    "\n",
    "## Python list\n",
    "Python doesn't have a built-in type for matrices. However, we can treat a list of a list as a matrix. For example:"
   ]
  },
  {
   "cell_type": "code",
   "execution_count": 2,
   "metadata": {},
   "outputs": [
    {
     "name": "stdout",
     "output_type": "stream",
     "text": [
      "[[1, 2], [3, 4]]\n"
     ]
    }
   ],
   "source": [
    "A = [\n",
    "        [1, 2],\n",
    "        [3, 4]\n",
    "    ]\n",
    "\n",
    "print(A)"
   ]
  },
  {
   "cell_type": "markdown",
   "metadata": {},
   "source": [
    "## NumPy Array\n",
    "NumPy provides multidimensional array of numbers (which is actually an object). NumPy's array class is called ndarray."
   ]
  },
  {
   "cell_type": "code",
   "execution_count": 3,
   "metadata": {},
   "outputs": [
    {
     "name": "stdout",
     "output_type": "stream",
     "text": [
      "[[1 2]\n",
      " [3 4]]\n"
     ]
    }
   ],
   "source": [
    "B = np.array([\n",
    "        [1, 2],\n",
    "        [3, 4]\n",
    "    ])\n",
    "\n",
    "print(B)"
   ]
  },
  {
   "cell_type": "markdown",
   "metadata": {},
   "source": [
    "# Transpose\n",
    "\n",
    "We can transpose matrices by converting rows into columns. "
   ]
  },
  {
   "cell_type": "code",
   "execution_count": 4,
   "metadata": {},
   "outputs": [
    {
     "name": "stdout",
     "output_type": "stream",
     "text": [
      "[[1, 3], [2, 4]]\n"
     ]
    }
   ],
   "source": [
    "# Transpose a python list\n",
    "A_t = [\n",
    "        [0, 0],\n",
    "        [0, 0]\n",
    "    ]\n",
    "\n",
    "# iterate through rows\n",
    "for i in range(len(A)):\n",
    "   # iterate through columns\n",
    "   for j in range(len(A[0])):\n",
    "       A_t[j][i] = A[i][j]\n",
    "\n",
    "print(A_t)"
   ]
  },
  {
   "cell_type": "markdown",
   "metadata": {},
   "source": [
    "And it's much easier if using numpy array."
   ]
  },
  {
   "cell_type": "code",
   "execution_count": 5,
   "metadata": {},
   "outputs": [
    {
     "name": "stdout",
     "output_type": "stream",
     "text": [
      "[[1 3]\n",
      " [2 4]]\n"
     ]
    }
   ],
   "source": [
    "B_t = B.T\n",
    "print(B_t)"
   ]
  },
  {
   "cell_type": "markdown",
   "metadata": {},
   "source": [
    "# Addition\n",
    "\n",
    "We can add one matrix to another (having the same number of dimensions)"
   ]
  },
  {
   "cell_type": "code",
   "execution_count": 6,
   "metadata": {},
   "outputs": [
    {
     "name": "stdout",
     "output_type": "stream",
     "text": [
      "[[1, 2], [3, 4], [1, 2], [3, 4]]\n",
      "---\n",
      "[[2 4]\n",
      " [6 8]]\n"
     ]
    }
   ],
   "source": [
    "C = A + A # NB: Addition of python lists will simply concatenate the two lists\n",
    "print(C)\n",
    "print('---')\n",
    "\n",
    "C = A + B # We can mingle python lists with numpy arrays\n",
    "print(C)"
   ]
  },
  {
   "cell_type": "markdown",
   "metadata": {},
   "source": [
    "# Subtraction\n",
    "Basically, the same as addition, but with minus sign. We can't subtract python lists - an exception is thrown."
   ]
  },
  {
   "cell_type": "code",
   "execution_count": 7,
   "metadata": {},
   "outputs": [
    {
     "name": "stdout",
     "output_type": "stream",
     "text": [
      "[[0 0]\n",
      " [0 0]]\n"
     ]
    }
   ],
   "source": [
    "C = A - B # We can mingle python lists with numpy arrays\n",
    "print(C)"
   ]
  },
  {
   "cell_type": "markdown",
   "metadata": {},
   "source": [
    "# Multiply by scalar\n",
    "We can multiply a matrix by a scalar value. It is expected to multiply all the values in the matrix."
   ]
  },
  {
   "cell_type": "code",
   "execution_count": 8,
   "metadata": {},
   "outputs": [
    {
     "name": "stdout",
     "output_type": "stream",
     "text": [
      "[[1, 2], [3, 4], [1, 2], [3, 4]]\n",
      "---\n",
      "[[2 4]\n",
      " [6 8]]\n"
     ]
    }
   ],
   "source": [
    "C = 2 * A # Multipling python lists with a scalar will basically duplicate the list\n",
    "print(C)\n",
    "print('---')\n",
    "\n",
    "C = 2 * B # Numpy arrays can safely be multiplied by a scalar\n",
    "print(C)"
   ]
  },
  {
   "cell_type": "markdown",
   "metadata": {},
   "source": [
    "# Multiply by scalar matrix\n",
    "\n",
    "We can multiply one matrix to a matrix of scalars (with same dimensionality). It's basically the same as multiplying to scalar value, but each element in the target matrix is being multiplied with different scalar multiplier.\n",
    "\n",
    "NB: We can't multiply python list to another python list."
   ]
  },
  {
   "cell_type": "code",
   "execution_count": 9,
   "metadata": {},
   "outputs": [
    {
     "name": "stdout",
     "output_type": "stream",
     "text": [
      "[[ 1 10]\n",
      " [ 6 40]]\n"
     ]
    }
   ],
   "source": [
    "C = [[1,5], [2,10]] * B # We can mingle multiply a python list with a numpy array\n",
    "print(C)"
   ]
  },
  {
   "cell_type": "markdown",
   "metadata": {},
   "source": [
    "# Multiply by matrix\n",
    "Matrix product of two arrays produces a new matrix. For matrix multiplication, the number of columns in the first matrix must be equal to the number of rows in the second matrix. The resulting matrix, known as the *matrix product*, has the number of rows of the first and the number of columns of the second matrix. "
   ]
  },
  {
   "cell_type": "code",
   "execution_count": 10,
   "metadata": {},
   "outputs": [
    {
     "name": "stdout",
     "output_type": "stream",
     "text": [
      "[[ 7 10]\n",
      " [15 22]]\n"
     ]
    }
   ],
   "source": [
    "C = np.matmul(A, B) # Matrix product of two arrays.\n",
    "print(C)"
   ]
  },
  {
   "cell_type": "markdown",
   "metadata": {},
   "source": [
    "In Numpy you can achieve the matrix multiplication by using `dot()` function \n",
    "as well."
   ]
  },
  {
   "cell_type": "code",
   "execution_count": 11,
   "metadata": {},
   "outputs": [
    {
     "data": {
      "text/plain": [
       "array([[ 7, 10],\n",
       "       [15, 22]])"
      ]
     },
     "execution_count": 11,
     "metadata": {},
     "output_type": "execute_result"
    }
   ],
   "source": [
    "B.dot(A)  # A is a regular list, so it doesn't have dot() method, whiere B is a ndarray and it has this function."
   ]
  },
  {
   "cell_type": "markdown",
   "metadata": {},
   "source": [
    "Or by using `@` (at) operator as well."
   ]
  },
  {
   "cell_type": "code",
   "execution_count": 12,
   "metadata": {},
   "outputs": [
    {
     "data": {
      "text/plain": [
       "array([[ 7, 10],\n",
       "       [15, 22]])"
      ]
     },
     "execution_count": 12,
     "metadata": {},
     "output_type": "execute_result"
    }
   ],
   "source": [
    "A @ B"
   ]
  },
  {
   "cell_type": "markdown",
   "metadata": {},
   "source": [
    "Now, let's implement matrix multiplication with vanilla Python."
   ]
  },
  {
   "cell_type": "code",
   "execution_count": 13,
   "metadata": {},
   "outputs": [],
   "source": [
    "def multiply_matrices(m1: list, m2: list) -> list:\n",
    "    \"\"\"\n",
    "    Multiplies two matrices and receives a new matrix.\n",
    "\n",
    "    Args:\n",
    "        m1 (list): The first matrix.\n",
    "        m2 (list): The second matrix.\n",
    "\n",
    "    Returns:\n",
    "        list: The *matrix product* has the number of rows of the first and the number of columns of the second matrix. \n",
    "    \"\"\"\n",
    "    # Determine the dimensions of the matrix product.\n",
    "    rows = len(m1)\n",
    "    cols = len(m2[0])\n",
    "\n",
    "    # Initialize the matrix product with zeroes.\n",
    "    product = [[0 for c in range(cols)] for r in range(rows)]\n",
    "\n",
    "    # Compute the actual product values.\n",
    "    for r in range(rows):\n",
    "        for c in range(cols):\n",
    "            row_sum = 0\n",
    "            # Multiply each row from `m1` to each column from `m2`\n",
    "            for i in range(len(m1[r])):\n",
    "                row_sum += m1[r][i] * m2[i][c] \n",
    "            product[r][c] = row_sum\n",
    "\n",
    "    return product"
   ]
  },
  {
   "cell_type": "code",
   "execution_count": 14,
   "metadata": {},
   "outputs": [
    {
     "data": {
      "text/plain": [
       "[[12, 120], [24, 240]]"
      ]
     },
     "execution_count": 14,
     "metadata": {},
     "output_type": "execute_result"
    }
   ],
   "source": [
    "m1 = [\n",
    "    [1,1,1],\n",
    "    [2,2,2]\n",
    "]\n",
    "\n",
    "m2 = [\n",
    "    [3,30],\n",
    "    [4,40],\n",
    "    [5,50]\n",
    "]\n",
    "\n",
    "multiply_matrices(m1, m2)"
   ]
  },
  {
   "cell_type": "code",
   "execution_count": 15,
   "metadata": {},
   "outputs": [
    {
     "data": {
      "text/plain": [
       "[[30, 30, 30], [60, 60, 60], [90, 90, 90]]"
      ]
     },
     "execution_count": 15,
     "metadata": {},
     "output_type": "execute_result"
    }
   ],
   "source": [
    "m1 = [\n",
    "    [1,1,1],\n",
    "    [2,2,2],\n",
    "    [3,3,3]\n",
    "]\n",
    "\n",
    "m2 = [\n",
    "    [10,10,10],\n",
    "    [10,10,10],\n",
    "    [10,10,10]\n",
    "]\n",
    "\n",
    "multiply_matrices(m1, m2)"
   ]
  },
  {
   "cell_type": "markdown",
   "metadata": {},
   "source": [
    "# Inverse matrix\n",
    "\n",
    "Each (non-singular) matrix $A$ has an inverse $A^{-1}$. The inverse matrix is defined as the reciprocal one.\n",
    "\n",
    "$$ A \\times A^{-1} = I $$\n",
    "\n",
    "where $I$ is the Identity matrix :\n",
    "\n",
    "$$ I = \\begin{bmatrix}\n",
    "1 & 0\\\\\n",
    "0 & 1\n",
    "\\end{bmatrix} $$\n",
    "\n",
    "NB: **singular matrices** do not have inverse (i.e. are not invertible)."
   ]
  },
  {
   "cell_type": "code",
   "execution_count": 16,
   "metadata": {},
   "outputs": [
    {
     "name": "stdout",
     "output_type": "stream",
     "text": [
      "[[1 2]\n",
      " [3 4]]\n",
      "---\n",
      "[[-2.   1. ]\n",
      " [ 1.5 -0.5]]\n",
      "--- The result product of the inverse matrix and the original matrix is the identity matrix\n",
      "[[1.00000000e+00 0.00000000e+00]\n",
      " [1.11022302e-16 1.00000000e+00]]\n"
     ]
    }
   ],
   "source": [
    "B_i = np.linalg.inv(B)\n",
    "print(B)\n",
    "print('---')\n",
    "print(B_i)\n",
    "print('--- The result product of the inverse matrix and the original matrix is the identity matrix')\n",
    "print(np.matmul(B_i, B))"
   ]
  },
  {
   "cell_type": "markdown",
   "metadata": {},
   "source": [
    "NB: Don't get shocked by the imprecise `1` and `0` values in the inverse matrix. This is a common phenomenon for floating-point arithmetics. And, yes `1.11022302e-16` is a so small number that it is basically `0`.\n"
   ]
  },
  {
   "cell_type": "markdown",
   "metadata": {},
   "source": [
    "# Matrix determinant \n",
    "\n",
    "The determinant of a matrix is a single numerical value which is used when calculating the inverse or when solving systems of linear equations.\n",
    "\n",
    "The determinant of a matrix $A$ is denoted $|A|$, or sometimes $det(A)$. The determinant is only defined for **square matrices**.\n",
    "\n",
    "The general formula for the determinant of matrices of any size is very complicated. You will only be asked to compute the determinants of $2 \\times 2$ or $3 \\times 3 $ matrices by hand.\n",
    "\n",
    "## Singular matrix\n",
    "A matrix is said to be singular if its determinant is zero.\n",
    "\n",
    "# Determinant of a 2×2 matrix\n",
    "The determinant of a matrix A is commonly denoted $det(A)$, $det A$, or $|A|$.\n",
    "In particular, the determinant is nonzero if and only if the matrix is invertible and the corresponding linear map is an isomorphism.\n",
    "\n",
    "Let $A=\\begin{pmatrix} a & b\\\\ c & d \\end{pmatrix}$\n",
    "\n",
    "The determinant of $A$ is \n",
    "$$ |A| = ad - bc $$\n",
    "\n",
    "## Determinant of a 3×3 matrix\n",
    "The determinant of a $ 3\\times 3$ matrix can be calculated by breaking it down into smaller $ 2 \\times 2 $ matrices, as follows:\n",
    "\n",
    "$$ \\begin{vmatrix} a_{11} & a_{12} & a_{13} \\\\ a_{21} & a_{22} & a_{23} \\\\ a_{31} & a_{32} & a_{33} \\end{vmatrix} = $$\n",
    "$$ = a_{11} \\begin{vmatrix} a_{22} & a_{23} \\\\ a_{32} & a_{33} \\end{vmatrix} \n",
    "- a_{12} \\begin{vmatrix} a_{21} & a_{23} \\\\ a_{31} & a_{33} \\end{vmatrix}\n",
    "+ a_{13} \\begin{vmatrix} a_{21} & a_{22} \\\\ a_{31} & a_{32} \\end{vmatrix} $$\n",
    "$$ = a_{11} (a_{22} a_{33} - a_{23}a_{32}) - a_{12} (a_{21} a_{33} - a_{23}a_{31}) + a_{13} (a_{21} a_{32} - a_{22}a_{31}) $$\n"
   ]
  },
  {
   "cell_type": "markdown",
   "metadata": {},
   "source": [
    "# Solve augmented matrix\n",
    "\n",
    "We can use `numpy.linalg.solve()` for solving linear system of equations (the so called **augmented matrix**).\n",
    "\n",
    "$$\n",
    "\\left[\n",
    "\\begin{array}{cc|c}\n",
    "1 & 2 & 4 \\\\\n",
    "3 & 4 & 10 \\\\\n",
    "\\end{array}\n",
    "\\right]\n",
    "$$\n",
    "\n",
    "or\n",
    "\n",
    "$$ \\begin{bmatrix}\n",
    "x + 2y = 4\\\\\n",
    "3x + 4y = 10\n",
    "\\end{bmatrix} $$"
   ]
  },
  {
   "cell_type": "code",
   "execution_count": 17,
   "metadata": {},
   "outputs": [
    {
     "data": {
      "text/plain": [
       "array([[2.],\n",
       "       [1.]])"
      ]
     },
     "execution_count": 17,
     "metadata": {},
     "output_type": "execute_result"
    }
   ],
   "source": [
    "A = np.array([\n",
    "    [1, 2], \n",
    "    [3, 4]\n",
    "])\n",
    "B = np.array([\n",
    "    [4], \n",
    "    [10]\n",
    "])\n",
    "np.linalg.solve(A, B)\n"
   ]
  },
  {
   "cell_type": "markdown",
   "metadata": {},
   "source": [
    "Note that we will achieve the same result without executing the `solve` function."
   ]
  },
  {
   "cell_type": "code",
   "execution_count": 18,
   "metadata": {},
   "outputs": [
    {
     "name": "stdout",
     "output_type": "stream",
     "text": [
      "[[-2.   1. ]\n",
      " [ 1.5 -0.5]]\n",
      "---\n",
      "[[2.]\n",
      " [1.]]\n"
     ]
    }
   ],
   "source": [
    "A_inv = np.linalg.inv(A)\n",
    "print(A_inv)\n",
    "print('---')\n",
    "print(A_inv @ B)"
   ]
  },
  {
   "cell_type": "markdown",
   "metadata": {},
   "source": [
    "# Orthogonal vectors\n",
    "We say that 2 vectors are orthogonal if they are perpendicular to each other. i.e. the **dot product of the two vectors is zero**."
   ]
  },
  {
   "cell_type": "code",
   "execution_count": 19,
   "metadata": {},
   "outputs": [
    {
     "name": "stdout",
     "output_type": "stream",
     "text": [
      "0\n",
      "---\n",
      "0\n"
     ]
    }
   ],
   "source": [
    "e1, e2 = [[1, 0], [0, 1]]\n",
    "print(np.dot(e1, e2))\n",
    "print('---')\n",
    "e1, e2 = [[3, 4], [-4, 3]]\n",
    "print(np.dot(e1, e2))"
   ]
  },
  {
   "cell_type": "markdown",
   "metadata": {},
   "source": [
    "And now let's plot the basic vectors."
   ]
  },
  {
   "cell_type": "code",
   "execution_count": 20,
   "metadata": {},
   "outputs": [
    {
     "data": {
      "image/png": "[encoded data removed]",
      "text/plain": [
       "<Figure size 640x480 with 1 Axes>"
      ]
     },
     "metadata": {},
     "output_type": "display_data"
    }
   ],
   "source": [
    "plt.quiver(0, 0, e1[0], e1[1], angles=\"xy\", scale_units=\"xy\", scale=1)\n",
    "plt.quiver(0, 0, e2[0], e2[1], angles=\"xy\", scale_units=\"xy\", scale=1)\n",
    "\n",
    "plt.xlim(-5, 5)\n",
    "plt.ylim(-5, 5)\n",
    "plt.gca().set_aspect(\"equal\")\n",
    "plt.show()"
   ]
  },
  {
   "cell_type": "markdown",
   "metadata": {},
   "source": [
    "Visually they also look perpendicular."
   ]
  },
  {
   "cell_type": "markdown",
   "metadata": {},
   "source": [
    "# Matrix decomposition\n",
    "In the mathematical discipline of linear algebra, a matrix decomposition or matrix factorization is a factorization of a matrix into a product of matrices. There are many different matrix decompositions; each finds use among a particular class of problems."
   ]
  },
  {
   "cell_type": "markdown",
   "metadata": {},
   "source": [
    "# Conclusions\n",
    "1. Always use **numpy arrays**. Python lists are not suitable for extensive matrix work.\n",
    "2. Don't mistake `*` for `@` when multiplying matrices.\n",
    "3. Get familiar with **inverse matrices** and their applications."
   ]
  }
 ],
 "metadata": {
  "kernelspec": {
   "display_name": "Python 3",
   "language": "python",
   "name": "python3"
  },
  "language_info": {
   "codemirror_mode": {
    "name": "ipython",
    "version": 3
   },
   "file_extension": ".py",
   "mimetype": "text/x-python",
   "name": "python",
   "nbconvert_exporter": "python",
   "pygments_lexer": "ipython3",
   "version": "3.13.2"
  }
 },
 "nbformat": 4,
 "nbformat_minor": 2
}
